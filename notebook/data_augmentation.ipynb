{
 "cells": [
  {
   "cell_type": "markdown",
   "metadata": {},
   "source": [
    "# Aumento de datos\n",
    "El aumento de datos hace que el modelo sea más robusto a ligeras variaciones y, por lo tanto, evita que el modelo se sobreajuste (overfitting).\n",
    "\n",
    "Para más información: https://towardsdatascience.com/exploring-image-data-augmentation-with-keras-and-tensorflow-a8162d89b844"
   ]
  },
  {
   "cell_type": "code",
   "execution_count": null,
   "metadata": {},
   "outputs": [],
   "source": [
    "from tensorflow.keras.preprocessing.image import ImageDataGenerator\n",
    "from matplotlib.pyplot import imread, imshow, subplots, show\n",
    "import numpy as np\n",
    "\n",
    "def plot(data_generator, image):\n",
    "    image_iterator = data_generator.flow(np.array([image]))\n",
    "    \n",
    "    _, rows = subplots(nrows=1, ncols=4, figsize=(18,18))\n",
    "    for row in rows:\n",
    "        img = image_iterator.next()\n",
    "        row.imshow(img[0].astype('int'))"
   ]
  },
  {
   "cell_type": "code",
   "execution_count": null,
   "metadata": {},
   "outputs": [],
   "source": [
    "image = imread(\"data/unlabeled_test_data/1.jpg\")\n",
    "imshow(image)"
   ]
  },
  {
   "cell_type": "markdown",
   "metadata": {},
   "source": [
    "Usamos la clase `ImageDataGenerator` disponible en Keras para realizar leer y aumentar imagenes.\n",
    "\n",
    "- shear_range=0.2 = especifica el angulo (intensidad) del estiramiento a la imagen\n",
    "- zoom_range=0.2 = Se obtiene un zoom aleatorio mediante el argumento `zoom_range`. Un zoom de menos de 1.0 amplía la imagen, mientras que un zoom de más de 1.0 reduce la imagen\n",
    "- horizontal_flip=True = El generador generará imágenes que, de forma aleatoria, se invertirán horizontalmente.\n",
    "\n",
    "Para más información ver: https://www.tensorflow.org/api_docs/python/tf/keras/preprocessing/image/ImageDataGenerator"
   ]
  },
  {
   "cell_type": "code",
   "execution_count": null,
   "metadata": {},
   "outputs": [],
   "source": [
    "train_datagen = ImageDataGenerator(\n",
    "    #rescale=1. / 255,\n",
    "    shear_range=0.2,\n",
    "    zoom_range=0.2,\n",
    "    horizontal_flip=True,\n",
    "    # brightness_range=(0.5, 1),\n",
    "    # vertical_flip=True,\n",
    "    # rotation_range=90\n",
    ")\n",
    "plot(train_datagen, image)"
   ]
  }
 ],
 "metadata": {
  "interpreter": {
   "hash": "77aa0360aae4637af0efc14f392c57159897a84507ebc547ddb7c75dab57877a"
  },
  "kernelspec": {
   "display_name": "Python 3.8.12 ('.venv': poetry)",
   "language": "python",
   "name": "python3"
  },
  "language_info": {
   "codemirror_mode": {
    "name": "ipython",
    "version": 3
   },
   "file_extension": ".py",
   "mimetype": "text/x-python",
   "name": "python",
   "nbconvert_exporter": "python",
   "pygments_lexer": "ipython3",
   "version": "3.8.12"
  }
 },
 "nbformat": 4,
 "nbformat_minor": 2
}
